{
 "cells": [
  {
   "cell_type": "markdown",
   "id": "24d9dc8b",
   "metadata": {},
   "source": [
    "# Topic Modeling using LDA"
   ]
  },
  {
   "cell_type": "code",
   "execution_count": 1,
   "id": "239f5e0f",
   "metadata": {},
   "outputs": [],
   "source": [
    "import gensim"
   ]
  },
  {
   "cell_type": "code",
   "execution_count": 2,
   "id": "40136658",
   "metadata": {},
   "outputs": [],
   "source": [
    "corpus = \"In terms of unforgettable looks, and enduring desire from enthusiasts who may have grown up gluing together the AMT 3-in-1 model kit that it inspired, the 1940 models stand today as some of the most iconic, instantly recognizable automobiles that the Ford Motor Company ever produced. That year, Fords were produced in two series: Standard and Deluxe. The easiest way to tell them apart is to look for a cleaner one-piece grille on Standard models, while the Deluxe version has a three-piece grille assembly. Both cars also had slightly different pieces of hood trim. This 1940 Ford Standard Tudor sedan was a very popular model that year–around 151,000 of them were built and sold. This Standard has been under the same California ownership since 1994, after the seller bought it from an owner in Texas. The seller describes the car as being entirely original, though the age of the finish and status of any restoration or refresh are unknown.\""
   ]
  },
  {
   "cell_type": "code",
   "execution_count": 3,
   "id": "5f801d84",
   "metadata": {},
   "outputs": [
    {
     "data": {
      "text/plain": [
       "['In terms of unforgettable looks, and enduring desire from enthusiasts who may have grown up gluing together the AMT 3-in-1 model kit that it inspired, the 1940 models stand today as some of the most iconic, instantly recognizable automobiles that the Ford Motor Company ever produced.',\n",
       " 'That year, Fords were produced in two series: Standard and Deluxe.',\n",
       " 'The easiest way to tell them apart is to look for a cleaner one-piece grille on Standard models, while the Deluxe version has a three-piece grille assembly.',\n",
       " 'Both cars also had slightly different pieces of hood trim.',\n",
       " 'This 1940 Ford Standard Tudor sedan was a very popular model that year–around 151,000 of them were built and sold.',\n",
       " 'This Standard has been under the same California ownership since 1994, after the seller bought it from an owner in Texas.',\n",
       " 'The seller describes the car as being entirely original, though the age of the finish and status of any restoration or refresh are unknown.']"
      ]
     },
     "execution_count": 3,
     "metadata": {},
     "output_type": "execute_result"
    }
   ],
   "source": [
    "from nltk import sent_tokenize\n",
    "\n",
    "list_of_sentence = sent_tokenize(corpus)\n",
    "list_of_sentence"
   ]
  },
  {
   "cell_type": "code",
   "execution_count": 4,
   "id": "5506a847",
   "metadata": {},
   "outputs": [
    {
     "data": {
      "text/plain": [
       "[['terms',\n",
       "  'unforgettable',\n",
       "  'looks',\n",
       "  'and',\n",
       "  'enduring',\n",
       "  'desire',\n",
       "  'from',\n",
       "  'enthusiasts',\n",
       "  'who',\n",
       "  'may',\n",
       "  'have',\n",
       "  'grown',\n",
       "  'gluing',\n",
       "  'together',\n",
       "  'the',\n",
       "  'amt',\n",
       "  'model',\n",
       "  'kit',\n",
       "  'that',\n",
       "  'inspired',\n",
       "  'the',\n",
       "  'models',\n",
       "  'stand',\n",
       "  'today',\n",
       "  'some',\n",
       "  'the',\n",
       "  'most',\n",
       "  'iconic',\n",
       "  'instantly',\n",
       "  'recognizable',\n",
       "  'automobiles',\n",
       "  'that',\n",
       "  'the',\n",
       "  'ford',\n",
       "  'motor',\n",
       "  'company',\n",
       "  'ever',\n",
       "  'produced'],\n",
       " ['that',\n",
       "  'year',\n",
       "  'fords',\n",
       "  'were',\n",
       "  'produced',\n",
       "  'two',\n",
       "  'series',\n",
       "  'standard',\n",
       "  'and',\n",
       "  'deluxe'],\n",
       " ['the',\n",
       "  'easiest',\n",
       "  'way',\n",
       "  'tell',\n",
       "  'them',\n",
       "  'apart',\n",
       "  'look',\n",
       "  'for',\n",
       "  'cleaner',\n",
       "  'one',\n",
       "  'piece',\n",
       "  'grille',\n",
       "  'standard',\n",
       "  'models',\n",
       "  'while',\n",
       "  'the',\n",
       "  'deluxe',\n",
       "  'version',\n",
       "  'has',\n",
       "  'three',\n",
       "  'piece',\n",
       "  'grille',\n",
       "  'assembly'],\n",
       " ['both',\n",
       "  'cars',\n",
       "  'also',\n",
       "  'had',\n",
       "  'slightly',\n",
       "  'different',\n",
       "  'pieces',\n",
       "  'hood',\n",
       "  'trim'],\n",
       " ['this',\n",
       "  'ford',\n",
       "  'standard',\n",
       "  'tudor',\n",
       "  'sedan',\n",
       "  'was',\n",
       "  'very',\n",
       "  'popular',\n",
       "  'model',\n",
       "  'that',\n",
       "  'year',\n",
       "  'around',\n",
       "  'them',\n",
       "  'were',\n",
       "  'built',\n",
       "  'and',\n",
       "  'sold'],\n",
       " ['this',\n",
       "  'standard',\n",
       "  'has',\n",
       "  'been',\n",
       "  'under',\n",
       "  'the',\n",
       "  'same',\n",
       "  'california',\n",
       "  'ownership',\n",
       "  'since',\n",
       "  'after',\n",
       "  'the',\n",
       "  'seller',\n",
       "  'bought',\n",
       "  'from',\n",
       "  'owner',\n",
       "  'texas'],\n",
       " ['the',\n",
       "  'seller',\n",
       "  'describes',\n",
       "  'the',\n",
       "  'car',\n",
       "  'being',\n",
       "  'entirely',\n",
       "  'original',\n",
       "  'though',\n",
       "  'the',\n",
       "  'age',\n",
       "  'the',\n",
       "  'finish',\n",
       "  'and',\n",
       "  'status',\n",
       "  'any',\n",
       "  'restoration',\n",
       "  'refresh',\n",
       "  'are',\n",
       "  'unknown']]"
      ]
     },
     "execution_count": 4,
     "metadata": {},
     "output_type": "execute_result"
    }
   ],
   "source": [
    "list_of_simple_preprocess_data = []\n",
    "\n",
    "for i in list_of_sentence:\n",
    "    list_of_simple_preprocess_data.append(gensim.utils.simple_preprocess(i, deacc=True, min_len=3))\n",
    "\n",
    "texts = list_of_simple_preprocess_data\n",
    "texts"
   ]
  },
  {
   "cell_type": "code",
   "execution_count": 5,
   "id": "be8205a0",
   "metadata": {},
   "outputs": [
    {
     "name": "stdout",
     "output_type": "stream",
     "text": [
      "Phrases<224 vocab, min_count=5, threshold=10.0, max_vocab_size=40000000>\n"
     ]
    }
   ],
   "source": [
    "bigram = gensim.models.Phrases(list_of_simple_preprocess_data) \n",
    "print(bigram)"
   ]
  },
  {
   "cell_type": "code",
   "execution_count": 6,
   "id": "e5133894",
   "metadata": {},
   "outputs": [],
   "source": [
    "#from gensim.utils import lemmatize\n",
    "from nltk.corpus import stopwords\n",
    "\n",
    "stops = set(stopwords.words('english')) \n",
    "\n",
    "def process_texts(texts):\n",
    "    texts = [[word for word in line if word not in stops] for line in texts]\n",
    "    texts = [bigram[line] for line in texts]\n",
    "    #texts = [[word.decode(\"utf-8\").split('/')[0] for word in lemmatize(' '.join(line), allowed_tags=re.compile('(NN)'), min_length=5)] for line in texts]\n",
    "    return texts"
   ]
  },
  {
   "cell_type": "code",
   "execution_count": 7,
   "id": "3fafba99",
   "metadata": {},
   "outputs": [
    {
     "data": {
      "text/plain": [
       "[['terms',\n",
       "  'unforgettable',\n",
       "  'looks',\n",
       "  'enduring',\n",
       "  'desire',\n",
       "  'enthusiasts',\n",
       "  'may',\n",
       "  'grown',\n",
       "  'gluing',\n",
       "  'together',\n",
       "  'amt',\n",
       "  'model',\n",
       "  'kit',\n",
       "  'inspired',\n",
       "  'models',\n",
       "  'stand',\n",
       "  'today',\n",
       "  'iconic',\n",
       "  'instantly',\n",
       "  'recognizable',\n",
       "  'automobiles',\n",
       "  'ford',\n",
       "  'motor',\n",
       "  'company',\n",
       "  'ever',\n",
       "  'produced'],\n",
       " ['year', 'fords', 'produced', 'two', 'series', 'standard', 'deluxe'],\n",
       " ['easiest',\n",
       "  'way',\n",
       "  'tell',\n",
       "  'apart',\n",
       "  'look',\n",
       "  'cleaner',\n",
       "  'one',\n",
       "  'piece',\n",
       "  'grille',\n",
       "  'standard',\n",
       "  'models',\n",
       "  'deluxe',\n",
       "  'version',\n",
       "  'three',\n",
       "  'piece',\n",
       "  'grille',\n",
       "  'assembly'],\n",
       " ['cars', 'also', 'slightly', 'different', 'pieces', 'hood', 'trim'],\n",
       " ['ford',\n",
       "  'standard',\n",
       "  'tudor',\n",
       "  'sedan',\n",
       "  'popular',\n",
       "  'model',\n",
       "  'year',\n",
       "  'around',\n",
       "  'built',\n",
       "  'sold'],\n",
       " ['standard',\n",
       "  'california',\n",
       "  'ownership',\n",
       "  'since',\n",
       "  'seller',\n",
       "  'bought',\n",
       "  'owner',\n",
       "  'texas'],\n",
       " ['seller',\n",
       "  'describes',\n",
       "  'car',\n",
       "  'entirely',\n",
       "  'original',\n",
       "  'though',\n",
       "  'age',\n",
       "  'finish',\n",
       "  'status',\n",
       "  'restoration',\n",
       "  'refresh',\n",
       "  'unknown']]"
      ]
     },
     "execution_count": 7,
     "metadata": {},
     "output_type": "execute_result"
    }
   ],
   "source": [
    "train_texts = process_texts(list_of_simple_preprocess_data)\n",
    "train_texts"
   ]
  },
  {
   "cell_type": "code",
   "execution_count": 8,
   "id": "6f58a461",
   "metadata": {},
   "outputs": [
    {
     "name": "stdout",
     "output_type": "stream",
     "text": [
      "Dictionary<75 unique tokens: ['amt', 'automobiles', 'company', 'desire', 'enduring']...>\n"
     ]
    }
   ],
   "source": [
    "from gensim.models import LdaModel\n",
    "#from gensim.models.wrappers import LdaMallet\n",
    "from gensim.corpora import Dictionary\n",
    "\n",
    "dictionary = Dictionary(train_texts)\n",
    "\n",
    "print(dictionary)"
   ]
  },
  {
   "cell_type": "code",
   "execution_count": 9,
   "id": "9f282da9",
   "metadata": {},
   "outputs": [
    {
     "name": "stdout",
     "output_type": "stream",
     "text": [
      "[[(0, 1), (1, 1), (2, 1), (3, 1), (4, 1), (5, 1), (6, 1), (7, 1), (8, 1), (9, 1), (10, 1), (11, 1), (12, 1), (13, 1), (14, 1), (15, 1), (16, 1), (17, 1), (18, 1), (19, 1), (20, 1), (21, 1), (22, 1), (23, 1), (24, 1), (25, 1)], [(19, 1), (26, 1), (27, 1), (28, 1), (29, 1), (30, 1), (31, 1)], [(17, 1), (26, 1), (29, 1), (32, 1), (33, 1), (34, 1), (35, 1), (36, 2), (37, 1), (38, 1), (39, 2), (40, 1), (41, 1), (42, 1), (43, 1)], [(44, 1), (45, 1), (46, 1), (47, 1), (48, 1), (49, 1), (50, 1)], [(7, 1), (16, 1), (29, 1), (31, 1), (51, 1), (52, 1), (53, 1), (54, 1), (55, 1), (56, 1)], [(29, 1), (57, 1), (58, 1), (59, 1), (60, 1), (61, 1), (62, 1), (63, 1)], [(61, 1), (64, 1), (65, 1), (66, 1), (67, 1), (68, 1), (69, 1), (70, 1), (71, 1), (72, 1), (73, 1), (74, 1)]]\n"
     ]
    }
   ],
   "source": [
    "corpus = [dictionary.doc2bow(text) for text in train_texts]\n",
    "\n",
    "print(corpus)"
   ]
  },
  {
   "cell_type": "code",
   "execution_count": 10,
   "id": "c652780e",
   "metadata": {},
   "outputs": [],
   "source": [
    "ldamodel = LdaModel(corpus=corpus, num_topics=6, id2word=dictionary)"
   ]
  },
  {
   "cell_type": "code",
   "execution_count": 11,
   "id": "1dd3285d",
   "metadata": {},
   "outputs": [
    {
     "data": {
      "text/plain": [
       "[(0,\n",
       "  '0.040*\"year\" + 0.040*\"ford\" + 0.040*\"sedan\" + 0.040*\"tudor\" + 0.040*\"around\" + 0.040*\"hood\" + 0.040*\"sold\" + 0.040*\"popular\" + 0.040*\"standard\" + 0.040*\"model\"'),\n",
       " (1,\n",
       "  '0.013*\"standard\" + 0.013*\"pieces\" + 0.013*\"fords\" + 0.013*\"california\" + 0.013*\"finish\" + 0.013*\"cars\" + 0.013*\"year\" + 0.013*\"deluxe\" + 0.013*\"produced\" + 0.013*\"bought\"'),\n",
       " (2,\n",
       "  '0.037*\"models\" + 0.028*\"piece\" + 0.025*\"today\" + 0.025*\"inspired\" + 0.025*\"ford\" + 0.024*\"enduring\" + 0.024*\"recognizable\" + 0.024*\"produced\" + 0.024*\"gluing\" + 0.024*\"looks\"'),\n",
       " (3,\n",
       "  '0.049*\"grille\" + 0.042*\"piece\" + 0.032*\"way\" + 0.031*\"models\" + 0.026*\"deluxe\" + 0.026*\"look\" + 0.026*\"tell\" + 0.025*\"standard\" + 0.025*\"apart\" + 0.025*\"assembly\"'),\n",
       " (4,\n",
       "  '0.037*\"seller\" + 0.037*\"entirely\" + 0.037*\"status\" + 0.037*\"age\" + 0.037*\"restoration\" + 0.037*\"standard\" + 0.037*\"car\" + 0.037*\"year\" + 0.037*\"refresh\" + 0.037*\"describes\"'),\n",
       " (5,\n",
       "  '0.057*\"standard\" + 0.057*\"seller\" + 0.057*\"owner\" + 0.057*\"texas\" + 0.057*\"bought\" + 0.057*\"ownership\" + 0.057*\"california\" + 0.057*\"since\" + 0.008*\"kit\" + 0.008*\"produced\"')]"
      ]
     },
     "execution_count": 11,
     "metadata": {},
     "output_type": "execute_result"
    }
   ],
   "source": [
    "ldamodel.show_topics()"
   ]
  },
  {
   "cell_type": "code",
   "execution_count": 12,
   "id": "c09bb751",
   "metadata": {},
   "outputs": [],
   "source": [
    "import pyLDAvis.gensim_models\n",
    "\n",
    "pyLDAvis.enable_notebook()"
   ]
  },
  {
   "cell_type": "code",
   "execution_count": 14,
   "id": "e1169e23",
   "metadata": {},
   "outputs": [
    {
     "name": "stderr",
     "output_type": "stream",
     "text": [
      "C:\\Users\\All in one\\anaconda3\\lib\\site-packages\\pyLDAvis\\_prepare.py:246: FutureWarning: In a future version of pandas all arguments of DataFrame.drop except for the argument 'labels' will be keyword-only\n",
      "  default_term_info = default_term_info.sort_values(\n"
     ]
    },
    {
     "data": {
      "text/html": [
       "\n",
       "<link rel=\"stylesheet\" type=\"text/css\" href=\"https://cdn.jsdelivr.net/gh/bmabey/pyLDAvis@3.3.1/pyLDAvis/js/ldavis.v1.0.0.css\">\n",
       "\n",
       "\n",
       "<div id=\"ldavis_el1668416493260348324733576072\"></div>\n",
       "<script type=\"text/javascript\">\n",
       "\n",
       "var ldavis_el1668416493260348324733576072_data = {\"mdsDat\": {\"x\": [0.0995653272739857, -0.10452831734067705, 0.08522115236454668, -0.049540412366322895, -0.026041033979537644, -0.0046767159519948585], \"y\": [-0.01258436043180291, -0.08506846611682936, -0.01924882971147942, 0.12763427149337153, -0.012833119283201475, 0.002100504049941593], \"topics\": [1, 2, 3, 4, 5, 6], \"cluster\": [1, 1, 1, 1, 1, 1], \"Freq\": [30.000182265176083, 20.99362706531861, 19.676099096275383, 18.711695841850034, 9.396359312455488, 1.2220364189244037]}, \"tinfo\": {\"Term\": [\"seller\", \"owner\", \"bought\", \"california\", \"texas\", \"ownership\", \"since\", \"standard\", \"year\", \"grille\", \"sedan\", \"around\", \"popular\", \"tudor\", \"hood\", \"built\", \"different\", \"also\", \"cars\", \"sold\", \"pieces\", \"slightly\", \"trim\", \"entirely\", \"status\", \"refresh\", \"age\", \"restoration\", \"unknown\", \"describes\", \"today\", \"inspired\", \"enduring\", \"models\", \"recognizable\", \"gluing\", \"looks\", \"instantly\", \"ever\", \"enthusiasts\", \"unforgettable\", \"motor\", \"amt\", \"kit\", \"automobiles\", \"terms\", \"desire\", \"grown\", \"may\", \"company\", \"together\", \"iconic\", \"stand\", \"piece\", \"easiest\", \"one\", \"ford\", \"three\", \"version\", \"produced\", \"model\", \"grille\", \"entirely\", \"status\", \"age\", \"restoration\", \"refresh\", \"car\", \"describes\", \"original\", \"unknown\", \"though\", \"two\", \"series\", \"finish\", \"fords\", \"seller\", \"year\", \"deluxe\", \"produced\", \"standard\", \"california\", \"texas\", \"since\", \"bought\", \"owner\", \"ownership\", \"trim\", \"pieces\", \"cars\", \"slightly\", \"also\", \"model\", \"piece\", \"way\", \"grille\", \"piece\", \"look\", \"tell\", \"apart\", \"assembly\", \"cleaner\", \"version\", \"three\", \"one\", \"easiest\", \"models\", \"stand\", \"iconic\", \"deluxe\", \"together\", \"company\", \"may\", \"grown\", \"desire\", \"terms\", \"automobiles\", \"kit\", \"amt\", \"motor\", \"unforgettable\", \"enthusiasts\", \"ever\", \"instantly\", \"standard\", \"model\", \"sedan\", \"tudor\", \"around\", \"hood\", \"sold\", \"popular\", \"built\", \"different\", \"also\", \"slightly\", \"cars\", \"trim\", \"pieces\", \"year\", \"model\", \"ford\", \"standard\", \"since\", \"owner\", \"bought\", \"ownership\", \"california\", \"texas\", \"way\", \"fords\", \"finish\", \"series\", \"two\", \"though\", \"unknown\", \"seller\", \"produced\", \"deluxe\", \"owner\", \"texas\", \"bought\", \"california\", \"ownership\", \"since\", \"seller\", \"standard\", \"pieces\", \"trim\", \"slightly\", \"cars\", \"also\", \"popular\", \"built\", \"different\", \"tudor\", \"hood\", \"sold\", \"sedan\", \"around\", \"way\", \"fords\", \"finish\", \"series\", \"two\", \"unknown\", \"though\", \"car\", \"original\", \"kit\", \"iconic\", \"stand\", \"company\", \"terms\", \"desire\", \"recognizable\", \"enthusiasts\", \"amt\", \"instantly\", \"gluing\", \"motor\", \"grown\", \"unforgettable\", \"automobiles\", \"today\", \"looks\", \"may\", \"together\", \"ever\", \"enduring\", \"inspired\", \"produced\", \"model\", \"models\", \"ford\", \"california\", \"bought\", \"ownership\", \"since\", \"owner\", \"texas\", \"pieces\", \"cars\", \"trim\", \"different\", \"also\", \"built\", \"popular\", \"slightly\", \"sedan\", \"around\", \"hood\", \"tudor\", \"sold\", \"way\", \"fords\", \"finish\", \"two\", \"series\", \"status\", \"entirely\", \"unknown\", \"refresh\", \"though\", \"restoration\", \"standard\", \"year\", \"deluxe\", \"produced\", \"piece\", \"seller\", \"model\", \"ford\"], \"Freq\": [1.0, 0.0, 0.0, 0.0, 0.0, 0.0, 0.0, 2.0, 1.0, 1.0, 1.0, 1.0, 1.0, 1.0, 1.0, 1.0, 1.0, 1.0, 1.0, 1.0, 1.0, 1.0, 1.0, 1.0, 1.0, 1.0, 1.0, 1.0, 1.0, 1.0, 0.6519963476955111, 0.6497128854163937, 0.6330933442664144, 0.960974851879592, 0.6214414152647166, 0.620550198945773, 0.619767978207621, 0.6189127372364855, 0.6168445922755331, 0.610964275830293, 0.6107903787774422, 0.6091229214065363, 0.6068232216055705, 0.601904954022188, 0.6007909336235084, 0.5935524019525076, 0.5814831103009008, 0.5775445875612709, 0.5774428356653758, 0.5704942458515744, 0.5643307450806826, 0.5492573174257592, 0.540550797102848, 0.7258526185928573, 0.4414724043185758, 0.43736606144295453, 0.6485200595598805, 0.4003909878884588, 0.39357672224491924, 0.621003585558825, 0.6035599172520307, 0.5501682715706624, 0.6762636117685149, 0.6762387770222876, 0.6762291152853992, 0.6762199978717158, 0.6762044166199732, 0.6762137381548585, 0.6762017630443489, 0.6761831199745783, 0.6761599862383666, 0.6761257619168534, 0.6760343156184164, 0.6760208436190931, 0.6757816816109042, 0.6757467768853848, 0.6763241677250692, 0.6762088392460136, 0.6761218836140178, 0.6759583144909208, 0.6762182288212996, 0.09682366737895173, 0.09682228956083912, 0.09682143055078127, 0.09680964255137338, 0.09678769101712247, 0.09677625172476778, 0.09687613503288194, 0.0968252918435166, 0.0968204949952727, 0.0967996916427823, 0.09679287909766995, 0.09682251069214115, 0.09678866059283134, 0.5416791193468853, 0.8417067229193097, 0.7121968546160579, 0.445250407316036, 0.43934709600747857, 0.43460325609359646, 0.42867472363573783, 0.4262011060104072, 0.42263357284749764, 0.4175019776913252, 0.3903628731780501, 0.38733557001844005, 0.5388460604875822, 0.3140370432826134, 0.30755370931041776, 0.4497005212787645, 0.2966469811265864, 0.2919961182940725, 0.28696161340290904, 0.286848835646805, 0.28393395950670947, 0.275018394826747, 0.2697262579680063, 0.26858499299084165, 0.2652658929313204, 0.2635482401969908, 0.2623740378655554, 0.2622203036413384, 0.25795270024574013, 0.2563560356922238, 0.4353115208084222, 0.26804967329979545, 0.6435474999341471, 0.6435259710814388, 0.6435079596187505, 0.6435019557978544, 0.6434902513793399, 0.6434688438159427, 0.6434253009532821, 0.643381940024588, 0.6433736317067824, 0.6433693865808963, 0.6431976409164746, 0.6431457290913528, 0.6430949088700303, 0.6436860729720014, 0.6434490736582444, 0.643634100502224, 0.6434660541617889, 0.09221790816408108, 0.0921663981098021, 0.09214179154082643, 0.09213359693174981, 0.09212771440016475, 0.09213076937468637, 0.09207792513798602, 0.09219220999130613, 0.09218371973953388, 0.09214289072520765, 0.09213477192195044, 0.0921151382147271, 0.09209560305506896, 0.0922460927677322, 0.09216457118955466, 0.0921547164330333, 0.46440106655179786, 0.46435608654725236, 0.46432950053237876, 0.46428290648569315, 0.4642861650235986, 0.4642470321151077, 0.46452851497361447, 0.464762703352054, 0.06654844205016414, 0.06654976678286402, 0.06651714333677776, 0.06650044713671541, 0.0665009800751579, 0.06649269668908045, 0.06649019187840077, 0.06648615677305056, 0.06648277642064394, 0.06648039342446542, 0.06648034774402749, 0.06647814746960067, 0.06647211003838797, 0.06646877536641929, 0.06651429592281365, 0.06650733726943608, 0.0665007288327493, 0.06649891684204486, 0.0664903441465272, 0.06648618722667583, 0.06647839871200927, 0.06647285615220745, 0.06683756115521101, 0.06675813048706213, 0.06671263277088674, 0.06670268966223128, 0.06668948040226402, 0.06667649954448641, 0.06669181771800463, 0.0666841510178392, 0.06668089247993374, 0.06668399113630646, 0.0666797276287666, 0.06667474084762623, 0.06665490031075322, 0.0666625441706997, 0.06665824259612822, 0.06667346179536426, 0.06666068649955732, 0.06664584035723102, 0.06663057547755705, 0.06663980292601832, 0.06663639211998643, 0.0666315652203788, 0.06679897641197527, 0.06669009708817604, 0.06668980777873584, 0.06668836123153482, 0.014191154713425365, 0.014185800940943157, 0.014183667155165617, 0.014181029380079136, 0.014179279774757135, 0.014177505415539802, 0.014192934023421764, 0.014190036827512213, 0.014184848411050817, 0.0141821631084853, 0.014181348210251, 0.014179923376035743, 0.014179123330138642, 0.014178217337569524, 0.014178196544297446, 0.014178069804353351, 0.014176548925024209, 0.014175962752782769, 0.014174205226214261, 0.014172581370680542, 0.014192724110389356, 0.014190634881623412, 0.014176058797896653, 0.014175754820061988, 0.01417528845667395, 0.01417520924420889, 0.01417499537055323, 0.014174866650297508, 0.01417458643620236, 0.014173653709426285, 0.014236397902999904, 0.014187545595486092, 0.01418601580475463, 0.014185961346184902, 0.014183825580095736, 0.014183728544826038, 0.014179860996219509, 0.014179007481908493], \"Total\": [1.0, 0.0, 0.0, 0.0, 0.0, 0.0, 0.0, 2.0, 1.0, 1.0, 1.0, 1.0, 1.0, 1.0, 1.0, 1.0, 1.0, 1.0, 1.0, 1.0, 1.0, 1.0, 1.0, 1.0, 1.0, 1.0, 1.0, 1.0, 1.0, 1.0, 1.1535807244134784, 1.1529928254449706, 1.1486150155611663, 1.7695201358062265, 1.1455279131204852, 1.1453000749583193, 1.1450998745928207, 1.1448585276162166, 1.144337884714248, 1.1427809354084615, 1.142734022934893, 1.1422704852672627, 1.141679902152617, 1.140328120526837, 1.1401049864170862, 1.138182632832609, 1.1350110240938753, 1.1339827113710979, 1.1339516699198886, 1.1321060633383269, 1.1305198713882407, 1.1265062650685844, 1.1242259261271539, 1.707625270020331, 1.098210047176801, 1.0971453995904377, 1.7045944751476991, 1.087377938362865, 1.0856249713750554, 1.7251995159759852, 1.6927511329866074, 1.661439143049652, 1.0591634801680594, 1.0591524969566712, 1.0591738419195602, 1.0591794375058798, 1.0591664701421333, 1.0591818659391679, 1.0591741673942492, 1.059182863777282, 1.0591541120634533, 1.0591524568334534, 1.0591360950585493, 1.0591449889374946, 1.0590443119808395, 1.059037278686193, 1.457720336866672, 1.6110955434121277, 1.6558611974589315, 1.7251995159759852, 2.611412959516127, 0.8778056832412968, 0.8778548909533628, 0.8778671313292993, 0.8778080323922838, 0.8778115649232092, 0.8778603270846259, 1.031164217200305, 1.03109999426777, 1.0311587267840034, 1.031192602779055, 1.0311779197378104, 1.6927511329866074, 1.707625270020331, 1.04303803808759, 1.661439143049652, 1.707625270020331, 1.0774888948914563, 1.0796151377256094, 1.0813395283098828, 1.0834341379773293, 1.0843772773777507, 1.0856249713750554, 1.087377938362865, 1.0971453995904377, 1.098210047176801, 1.7695201358062265, 1.1242259261271539, 1.1265062650685844, 1.6558611974589315, 1.1305198713882407, 1.1321060633383269, 1.1339516699198886, 1.1339827113710979, 1.1350110240938753, 1.138182632832609, 1.1401049864170862, 1.140328120526837, 1.141679902152617, 1.1422704852672627, 1.142734022934893, 1.1427809354084615, 1.144337884714248, 1.1448585276162166, 2.611412959516127, 1.6927511329866074, 1.0311927570662556, 1.0312035010491258, 1.0312057231184697, 1.0312139637758606, 1.031221870344376, 1.0311880317315218, 1.0311828199250177, 1.0311821744313305, 1.0311779197378104, 1.031192602779055, 1.0311587267840034, 1.031164217200305, 1.03109999426777, 1.6110955434121277, 1.6927511329866074, 1.7045944751476991, 2.611412959516127, 0.8778671313292993, 0.8778115649232092, 0.8778080323922838, 0.8778603270846259, 0.8778056832412968, 0.8778548909533628, 1.04303803808759, 1.059037278686193, 1.0590443119808395, 1.0591449889374946, 1.0591360950585493, 1.0591524568334534, 1.0591541120634533, 1.457720336866672, 1.7251995159759852, 1.6558611974589315, 0.8778115649232092, 0.8778548909533628, 0.8778080323922838, 0.8778056832412968, 0.8778603270846259, 0.8778671313292993, 1.457720336866672, 2.611412959516127, 1.03109999426777, 1.031164217200305, 1.031192602779055, 1.0311587267840034, 1.0311779197378104, 1.0311880317315218, 1.0311828199250177, 1.0311821744313305, 1.0312035010491258, 1.0312139637758606, 1.031221870344376, 1.0311927570662556, 1.0312057231184697, 1.04303803808759, 1.059037278686193, 1.0590443119808395, 1.0591449889374946, 1.0591360950585493, 1.0591541120634533, 1.0591524568334534, 1.0591818659391679, 1.059182863777282, 1.140328120526837, 1.1265062650685844, 1.1242259261271539, 1.1321060633383269, 1.138182632832609, 1.1350110240938753, 1.1455279131204852, 1.1427809354084615, 1.141679902152617, 1.1448585276162166, 1.1453000749583193, 1.1422704852672627, 1.1339827113710979, 1.142734022934893, 1.1401049864170862, 1.1535807244134784, 1.1450998745928207, 1.1339516699198886, 1.1305198713882407, 1.144337884714248, 1.1486150155611663, 1.1529928254449706, 1.7251995159759852, 1.6927511329866074, 1.7695201358062265, 1.7045944751476991, 0.8778056832412968, 0.8778080323922838, 0.8778603270846259, 0.8778671313292993, 0.8778115649232092, 0.8778548909533628, 1.03109999426777, 1.0311587267840034, 1.031164217200305, 1.0311821744313305, 1.0311779197378104, 1.0311828199250177, 1.0311880317315218, 1.031192602779055, 1.0311927570662556, 1.0312057231184697, 1.0312139637758606, 1.0312035010491258, 1.031221870344376, 1.04303803808759, 1.059037278686193, 1.0590443119808395, 1.0591360950585493, 1.0591449889374946, 1.0591524969566712, 1.0591634801680594, 1.0591541120634533, 1.0591664701421333, 1.0591524568334534, 1.0591794375058798, 2.611412959516127, 1.6110955434121277, 1.6558611974589315, 1.7251995159759852, 1.707625270020331, 1.457720336866672, 1.6927511329866074, 1.7045944751476991], \"Category\": [\"Default\", \"Default\", \"Default\", \"Default\", \"Default\", \"Default\", \"Default\", \"Default\", \"Default\", \"Default\", \"Default\", \"Default\", \"Default\", \"Default\", \"Default\", \"Default\", \"Default\", \"Default\", \"Default\", \"Default\", \"Default\", \"Default\", \"Default\", \"Default\", \"Default\", \"Default\", \"Default\", \"Default\", \"Default\", \"Default\", \"Topic1\", \"Topic1\", \"Topic1\", \"Topic1\", \"Topic1\", \"Topic1\", \"Topic1\", \"Topic1\", \"Topic1\", \"Topic1\", \"Topic1\", \"Topic1\", \"Topic1\", \"Topic1\", \"Topic1\", \"Topic1\", \"Topic1\", \"Topic1\", \"Topic1\", \"Topic1\", \"Topic1\", \"Topic1\", \"Topic1\", \"Topic1\", \"Topic1\", \"Topic1\", \"Topic1\", \"Topic1\", \"Topic1\", \"Topic1\", \"Topic1\", \"Topic1\", \"Topic2\", \"Topic2\", \"Topic2\", \"Topic2\", \"Topic2\", \"Topic2\", \"Topic2\", \"Topic2\", \"Topic2\", \"Topic2\", \"Topic2\", \"Topic2\", \"Topic2\", \"Topic2\", \"Topic2\", \"Topic2\", \"Topic2\", \"Topic2\", \"Topic2\", \"Topic2\", \"Topic2\", \"Topic2\", \"Topic2\", \"Topic2\", \"Topic2\", \"Topic2\", \"Topic2\", \"Topic2\", \"Topic2\", \"Topic2\", \"Topic2\", \"Topic2\", \"Topic3\", \"Topic3\", \"Topic3\", \"Topic3\", \"Topic3\", \"Topic3\", \"Topic3\", \"Topic3\", \"Topic3\", \"Topic3\", \"Topic3\", \"Topic3\", \"Topic3\", \"Topic3\", \"Topic3\", \"Topic3\", \"Topic3\", \"Topic3\", \"Topic3\", \"Topic3\", \"Topic3\", \"Topic3\", \"Topic3\", \"Topic3\", \"Topic3\", \"Topic3\", \"Topic3\", \"Topic3\", \"Topic3\", \"Topic3\", \"Topic3\", \"Topic3\", \"Topic4\", \"Topic4\", \"Topic4\", \"Topic4\", \"Topic4\", \"Topic4\", \"Topic4\", \"Topic4\", \"Topic4\", \"Topic4\", \"Topic4\", \"Topic4\", \"Topic4\", \"Topic4\", \"Topic4\", \"Topic4\", \"Topic4\", \"Topic4\", \"Topic4\", \"Topic4\", \"Topic4\", \"Topic4\", \"Topic4\", \"Topic4\", \"Topic4\", \"Topic4\", \"Topic4\", \"Topic4\", \"Topic4\", \"Topic4\", \"Topic4\", \"Topic4\", \"Topic4\", \"Topic5\", \"Topic5\", \"Topic5\", \"Topic5\", \"Topic5\", \"Topic5\", \"Topic5\", \"Topic5\", \"Topic5\", \"Topic5\", \"Topic5\", \"Topic5\", \"Topic5\", \"Topic5\", \"Topic5\", \"Topic5\", \"Topic5\", \"Topic5\", \"Topic5\", \"Topic5\", \"Topic5\", \"Topic5\", \"Topic5\", \"Topic5\", \"Topic5\", \"Topic5\", \"Topic5\", \"Topic5\", \"Topic5\", \"Topic5\", \"Topic5\", \"Topic5\", \"Topic5\", \"Topic5\", \"Topic5\", \"Topic5\", \"Topic5\", \"Topic5\", \"Topic5\", \"Topic5\", \"Topic5\", \"Topic5\", \"Topic5\", \"Topic5\", \"Topic5\", \"Topic5\", \"Topic5\", \"Topic5\", \"Topic5\", \"Topic5\", \"Topic5\", \"Topic5\", \"Topic5\", \"Topic5\", \"Topic5\", \"Topic5\", \"Topic6\", \"Topic6\", \"Topic6\", \"Topic6\", \"Topic6\", \"Topic6\", \"Topic6\", \"Topic6\", \"Topic6\", \"Topic6\", \"Topic6\", \"Topic6\", \"Topic6\", \"Topic6\", \"Topic6\", \"Topic6\", \"Topic6\", \"Topic6\", \"Topic6\", \"Topic6\", \"Topic6\", \"Topic6\", \"Topic6\", \"Topic6\", \"Topic6\", \"Topic6\", \"Topic6\", \"Topic6\", \"Topic6\", \"Topic6\", \"Topic6\", \"Topic6\", \"Topic6\", \"Topic6\", \"Topic6\", \"Topic6\", \"Topic6\", \"Topic6\"], \"logprob\": [30.0, 29.0, 28.0, 27.0, 26.0, 25.0, 24.0, 23.0, 22.0, 21.0, 20.0, 19.0, 18.0, 17.0, 16.0, 15.0, 14.0, 13.0, 12.0, 11.0, 10.0, 9.0, 8.0, 7.0, 6.0, 5.0, 4.0, 3.0, 2.0, 1.0, -3.6897, -3.6932, -3.7191, -3.3017, -3.7377, -3.7391, -3.7404, -3.7417, -3.7451, -3.7547, -3.7549, -3.7577, -3.7615, -3.7696, -3.7714, -3.7836, -3.8041, -3.8109, -3.8111, -3.8232, -3.8341, -3.8611, -3.8771, -3.5823, -4.0796, -4.0889, -3.695, -4.1773, -4.1944, -3.7384, -3.7669, -3.8595, -3.2961, -3.2962, -3.2962, -3.2962, -3.2962, -3.2962, -3.2962, -3.2962, -3.2963, -3.2963, -3.2965, -3.2965, -3.2968, -3.2969, -3.296, -3.2962, -3.2963, -3.2966, -3.2962, -5.2398, -5.2398, -5.2398, -5.24, -5.2402, -5.2403, -5.2393, -5.2398, -5.2399, -5.2401, -5.2401, -5.2398, -5.2402, -3.4532, -3.0125, -3.1795, -3.6493, -3.6626, -3.6735, -3.6872, -3.693, -3.7014, -3.7136, -3.7808, -3.7886, -3.4585, -3.9984, -4.0192, -3.6393, -4.0554, -4.0712, -4.0885, -4.0889, -4.0992, -4.1311, -4.1505, -4.1547, -4.1672, -4.1737, -4.1781, -4.1787, -4.1951, -4.2013, -3.6718, -4.1567, -3.2306, -3.2307, -3.2307, -3.2307, -3.2307, -3.2308, -3.2308, -3.2309, -3.2309, -3.2309, -3.2312, -3.2313, -3.2313, -3.2304, -3.2308, -3.2305, -3.2308, -5.1735, -5.174, -5.1743, -5.1744, -5.1745, -5.1744, -5.175, -5.1738, -5.1739, -5.1743, -5.1744, -5.1746, -5.1748, -5.1732, -5.1741, -5.1742, -2.8681, -2.8682, -2.8682, -2.8683, -2.8683, -2.8684, -2.8678, -2.8673, -4.8109, -4.8109, -4.8114, -4.8116, -4.8116, -4.8117, -4.8118, -4.8118, -4.8119, -4.8119, -4.8119, -4.8119, -4.812, -4.8121, -4.8114, -4.8115, -4.8116, -4.8116, -4.8118, -4.8118, -4.8119, -4.812, -4.8066, -4.8077, -4.8084, -4.8086, -4.8088, -4.809, -4.8087, -4.8088, -4.8089, -4.8089, -4.8089, -4.809, -4.8093, -4.8092, -4.8092, -4.809, -4.8092, -4.8094, -4.8097, -4.8095, -4.8096, -4.8096, -4.8071, -4.8088, -4.8088, -4.8088, -4.3164, -4.3168, -4.3169, -4.3171, -4.3172, -4.3174, -4.3163, -4.3165, -4.3168, -4.317, -4.3171, -4.3172, -4.3172, -4.3173, -4.3173, -4.3173, -4.3174, -4.3175, -4.3176, -4.3177, -4.3163, -4.3164, -4.3175, -4.3175, -4.3175, -4.3175, -4.3175, -4.3175, -4.3176, -4.3176, -4.3132, -4.3166, -4.3168, -4.3168, -4.3169, -4.3169, -4.3172, -4.3172], \"loglift\": [30.0, 29.0, 28.0, 27.0, 26.0, 25.0, 24.0, 23.0, 22.0, 21.0, 20.0, 19.0, 18.0, 17.0, 16.0, 15.0, 14.0, 13.0, 12.0, 11.0, 10.0, 9.0, 8.0, 7.0, 6.0, 5.0, 4.0, 3.0, 2.0, 1.0, 0.6334, 0.6304, 0.6083, 0.5935, 0.5924, 0.5912, 0.5901, 0.5889, 0.586, 0.5778, 0.5775, 0.5752, 0.5719, 0.565, 0.5633, 0.5529, 0.5352, 0.5293, 0.5291, 0.5186, 0.5092, 0.4857, 0.4717, 0.3485, 0.2926, 0.2843, 0.2376, 0.2049, 0.1893, 0.1822, 0.1727, 0.0988, 1.1123, 1.1123, 1.1122, 1.1122, 1.1122, 1.1122, 1.1122, 1.1122, 1.1122, 1.1121, 1.112, 1.112, 1.1117, 1.1117, 0.793, 0.6928, 0.6652, 0.624, 0.2098, -0.6436, -0.6437, -0.6437, -0.6437, -0.644, -0.6441, -0.8041, -0.8045, -0.8046, -0.8049, -0.8049, -1.3003, -1.3094, 0.9705, 0.9458, 0.7513, 0.742, 0.7267, 0.7142, 0.6986, 0.6919, 0.6824, 0.6685, 0.5924, 0.5836, 0.4367, 0.3504, 0.3275, 0.3223, 0.2879, 0.2707, 0.2517, 0.2512, 0.2401, 0.2054, 0.1843, 0.1799, 0.1662, 0.1592, 0.1544, 0.1537, 0.136, 0.1293, -0.1658, -0.2172, 1.2045, 1.2045, 1.2045, 1.2045, 1.2044, 1.2044, 1.2044, 1.2043, 1.2043, 1.2043, 1.204, 1.2039, 1.2039, 0.7586, 0.7088, 0.7021, 0.2752, -0.5773, -0.5778, -0.5781, -0.5782, -0.5782, -0.5783, -0.7512, -0.7652, -0.7653, -0.7659, -0.7659, -0.7662, -0.7664, -1.0841, -1.2535, -1.2126, 1.7282, 1.728, 1.728, 1.7279, 1.7279, 1.7278, 1.2212, 0.6387, -0.3756, -0.3756, -0.3762, -0.3764, -0.3764, -0.3765, -0.3766, -0.3766, -0.3767, -0.3767, -0.3767, -0.3768, -0.3769, -0.3883, -0.4029, -0.403, -0.4032, -0.4032, -0.4033, -0.4034, -0.4035, -0.4036, -0.472, -0.461, -0.4596, -0.4667, -0.4723, -0.4697, -0.4787, -0.4764, -0.4755, -0.4782, -0.4787, -0.4761, -0.4691, -0.4767, -0.4744, -0.486, -0.4788, -0.4692, -0.4664, -0.4784, -0.4822, -0.4861, -0.8866, -0.8692, -0.9136, -0.8762, 0.2798, 0.2795, 0.2793, 0.2791, 0.279, 0.2788, 0.119, 0.1188, 0.1184, 0.1182, 0.1181, 0.118, 0.118, 0.1179, 0.1179, 0.1179, 0.1177, 0.1177, 0.1176, 0.1061, 0.0923, 0.0921, 0.091, 0.091, 0.0909, 0.0909, 0.0909, 0.0909, 0.0909, 0.0908, -0.8072, -0.3277, -0.3552, -0.3962, -0.3861, -0.2279, -0.3776, -0.3847]}, \"token.table\": {\"Topic\": [2, 4, 1, 4, 1, 4, 2, 4, 1, 2, 2, 1, 4, 1, 1, 2, 1, 2, 1, 4, 2, 1, 1, 3, 1, 4, 1, 1, 1, 1, 1, 1, 1, 4, 1, 3, 1, 2, 1, 3, 4, 4, 1, 2, 1, 2, 2, 4, 2, 2, 4, 4, 1, 2, 4, 2, 1, 2, 1, 1, 4, 4, 2, 1, 2, 3, 2, 4], \"Freq\": [0.9441320776839444, 0.9697647523855653, 0.8759022543135935, 0.969738605577071, 0.8771122062562128, 0.9697601440573989, 0.9441249252443613, 0.9697828026135396, 0.8833094640013006, 0.603915353252187, 0.9441317875606542, 0.8810487112214086, 0.9697607511024648, 0.8706137273605473, 0.8750583502187779, 0.944141314088103, 0.8738677739833016, 0.94424755289946, 0.5866497953499188, 0.5866497953499188, 0.944253823850816, 0.8731336196205111, 0.6018878297067515, 0.6018878297067515, 0.8818476595563794, 0.9697308561827765, 0.8877003448703569, 0.8673080854723215, 0.8734703685023547, 0.8769405770139171, 0.8732862715189661, 0.8818717997660764, 0.5907542937133641, 0.5907542937133641, 0.5651249622793251, 0.5651249622793251, 0.8754493904007552, 0.9441240358003691, 0.5856085744081861, 0.5856085744081861, 0.9698380424394671, 0.9697552427182923, 0.5796431025742996, 0.5796431025742996, 0.8729599589380074, 0.9441386488243029, 0.9441270898864562, 0.9697507989146481, 0.6860026403620542, 0.9441577975109647, 0.9697509440089163, 0.9697234210772222, 0.8895009239334127, 0.38293445560034733, 0.38293445560034733, 0.944151104655243, 0.8785936203500907, 0.9441511404219357, 0.8668660795354705, 0.8845488038808493, 0.9697776390215339, 0.9697406951999484, 0.9441657258831498, 0.8750942738465877, 0.9441496649168375, 0.9587378057980509, 0.6206956527743273, 0.6206956527743273], \"Term\": [\"age\", \"also\", \"amt\", \"around\", \"automobiles\", \"built\", \"car\", \"cars\", \"company\", \"deluxe\", \"describes\", \"desire\", \"different\", \"enduring\", \"enthusiasts\", \"entirely\", \"ever\", \"finish\", \"ford\", \"ford\", \"fords\", \"gluing\", \"grille\", \"grille\", \"grown\", \"hood\", \"iconic\", \"inspired\", \"instantly\", \"kit\", \"looks\", \"may\", \"model\", \"model\", \"models\", \"models\", \"motor\", \"original\", \"piece\", \"piece\", \"pieces\", \"popular\", \"produced\", \"produced\", \"recognizable\", \"refresh\", \"restoration\", \"sedan\", \"seller\", \"series\", \"slightly\", \"sold\", \"stand\", \"standard\", \"standard\", \"status\", \"terms\", \"though\", \"today\", \"together\", \"trim\", \"tudor\", \"two\", \"unforgettable\", \"unknown\", \"way\", \"year\", \"year\"]}, \"R\": 30, \"lambda.step\": 0.01, \"plot.opts\": {\"xlab\": \"PC1\", \"ylab\": \"PC2\"}, \"topic.order\": [3, 5, 4, 1, 6, 2]};\n",
       "\n",
       "function LDAvis_load_lib(url, callback){\n",
       "  var s = document.createElement('script');\n",
       "  s.src = url;\n",
       "  s.async = true;\n",
       "  s.onreadystatechange = s.onload = callback;\n",
       "  s.onerror = function(){console.warn(\"failed to load library \" + url);};\n",
       "  document.getElementsByTagName(\"head\")[0].appendChild(s);\n",
       "}\n",
       "\n",
       "if(typeof(LDAvis) !== \"undefined\"){\n",
       "   // already loaded: just create the visualization\n",
       "   !function(LDAvis){\n",
       "       new LDAvis(\"#\" + \"ldavis_el1668416493260348324733576072\", ldavis_el1668416493260348324733576072_data);\n",
       "   }(LDAvis);\n",
       "}else if(typeof define === \"function\" && define.amd){\n",
       "   // require.js is available: use it to load d3/LDAvis\n",
       "   require.config({paths: {d3: \"https://d3js.org/d3.v5\"}});\n",
       "   require([\"d3\"], function(d3){\n",
       "      window.d3 = d3;\n",
       "      LDAvis_load_lib(\"https://cdn.jsdelivr.net/gh/bmabey/pyLDAvis@3.3.1/pyLDAvis/js/ldavis.v3.0.0.js\", function(){\n",
       "        new LDAvis(\"#\" + \"ldavis_el1668416493260348324733576072\", ldavis_el1668416493260348324733576072_data);\n",
       "      });\n",
       "    });\n",
       "}else{\n",
       "    // require.js not available: dynamically load d3 & LDAvis\n",
       "    LDAvis_load_lib(\"https://d3js.org/d3.v5.js\", function(){\n",
       "         LDAvis_load_lib(\"https://cdn.jsdelivr.net/gh/bmabey/pyLDAvis@3.3.1/pyLDAvis/js/ldavis.v3.0.0.js\", function(){\n",
       "                 new LDAvis(\"#\" + \"ldavis_el1668416493260348324733576072\", ldavis_el1668416493260348324733576072_data);\n",
       "            })\n",
       "         });\n",
       "}\n",
       "</script>"
      ],
      "text/plain": [
       "PreparedData(topic_coordinates=              x         y  topics  cluster       Freq\n",
       "topic                                                \n",
       "2      0.099565 -0.012584       1        1  30.000182\n",
       "4     -0.104528 -0.085068       2        1  20.993627\n",
       "3      0.085221 -0.019249       3        1  19.676099\n",
       "0     -0.049540  0.127634       4        1  18.711696\n",
       "5     -0.026041 -0.012833       5        1   9.396359\n",
       "1     -0.004677  0.002101       6        1   1.222036, topic_info=          Term      Freq     Total Category  logprob  loglift\n",
       "61      seller  1.000000  1.000000  Default  30.0000  30.0000\n",
       "59       owner  0.000000  0.000000  Default  29.0000  29.0000\n",
       "57      bought  0.000000  0.000000  Default  28.0000  28.0000\n",
       "58  california  0.000000  0.000000  Default  27.0000  27.0000\n",
       "63       texas  0.000000  0.000000  Default  26.0000  26.0000\n",
       "..         ...       ...       ...      ...      ...      ...\n",
       "19    produced  0.014186  1.725200   Topic6  -4.3168  -0.3962\n",
       "39       piece  0.014184  1.707625   Topic6  -4.3169  -0.3861\n",
       "61      seller  0.014184  1.457720   Topic6  -4.3169  -0.2279\n",
       "16       model  0.014180  1.692751   Topic6  -4.3172  -0.3776\n",
       "7         ford  0.014179  1.704594   Topic6  -4.3172  -0.3847\n",
       "\n",
       "[253 rows x 6 columns], token_table=      Topic      Freq           Term\n",
       "term                                \n",
       "64        2  0.944132            age\n",
       "44        4  0.969765           also\n",
       "0         1  0.875902            amt\n",
       "51        4  0.969739         around\n",
       "1         1  0.877112    automobiles\n",
       "...     ...       ...            ...\n",
       "25        1  0.875094  unforgettable\n",
       "74        2  0.944150        unknown\n",
       "43        3  0.958738            way\n",
       "31        2  0.620696           year\n",
       "31        4  0.620696           year\n",
       "\n",
       "[68 rows x 3 columns], R=30, lambda_step=0.01, plot_opts={'xlab': 'PC1', 'ylab': 'PC2'}, topic_order=[3, 5, 4, 1, 6, 2])"
      ]
     },
     "execution_count": 14,
     "metadata": {},
     "output_type": "execute_result"
    }
   ],
   "source": [
    "pyLDAvis.gensim_models.prepare(ldamodel, corpus, dictionary)\n"
   ]
  },
  {
   "cell_type": "markdown",
   "id": "ec206bd7",
   "metadata": {},
   "source": [
    "## Wait for future updates..."
   ]
  }
 ],
 "metadata": {
  "kernelspec": {
   "display_name": "Python 3 (ipykernel)",
   "language": "python",
   "name": "python3"
  },
  "language_info": {
   "codemirror_mode": {
    "name": "ipython",
    "version": 3
   },
   "file_extension": ".py",
   "mimetype": "text/x-python",
   "name": "python",
   "nbconvert_exporter": "python",
   "pygments_lexer": "ipython3",
   "version": "3.9.7"
  }
 },
 "nbformat": 4,
 "nbformat_minor": 5
}
